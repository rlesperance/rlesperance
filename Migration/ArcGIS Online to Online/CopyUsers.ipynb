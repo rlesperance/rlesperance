{
 "cells": [
  {
   "cell_type": "code",
   "execution_count": 8,
   "metadata": {},
   "outputs": [],
   "source": [
    "from arcgis.gis import GIS\n",
    "from getpass import getpass\n",
    "\n",
    "import pandas as pd\n",
    "import logging\n",
    "from datetime import datetime\n",
    "import sys, os\n",
    "import tempfile\n",
    "import traceback\n",
    "import re\n",
    "import openpyxl"
   ]
  },
  {
   "cell_type": "code",
   "execution_count": 9,
   "metadata": {},
   "outputs": [],
   "source": [
    "# Source Portal information\n",
    "source_admin_username = 'adminuser'\n",
    "source_portal_url = 'https://sourceorg.maps.arcgis.com'\n",
    "#source_password = getpass(prompt='Please enter the password for the source Portal') # This will prompt you for the password rather then storing it\n",
    "source_password = 'password'\n",
    "\n",
    "# Target Portal information\n",
    "target_admin_username = 'adminuser'\n",
    "target_portal_url = 'https://targetorg.arcgis.com'\n",
    "#target_password = getpass(prompt='Please enter the password for the target Portal') # This will prompt you for the password rather then storing it\n",
    "target_password = 'password'\n",
    "\n",
    "org = 'newOrg'\n",
    "\n",
    "# Log file location - specify the location of the log file to be created\n",
    "logging.basicConfig(filename = r\".\\CopyUsers_log.txt\", level=logging.INFO)\n",
    "now = datetime.datetime.now()\n",
    "logging.info(\"{}  Begin user migration\".format(str(now)))\n",
    "\n",
    "basePath = r\".\"\n",
    "usermapXLS = os.path.join(basePath, \"User_Mapping.xlsx\")"
   ]
  },
  {
   "cell_type": "code",
   "execution_count": 10,
   "metadata": {},
   "outputs": [],
   "source": [
    "# Instantiate Portal connections - use verify_cert = False to use self signed SSL\n",
    "source = GIS(source_portal_url, source_admin_username, source_password, verify_cert = False, expiration = 9999)\n",
    "logging.info(\"Connected to source portal \"+source_portal_url+\" as \"+source_admin_username)\n",
    "target = GIS(target_portal_url, target_admin_username, target_password, verify_cert = False)\n",
    "logging.info(\"Connected to target portal \"+target_portal_url+\" as \"+target_admin_username)"
   ]
  },
  {
   "cell_type": "code",
   "execution_count": 11,
   "metadata": {
    "collapsed": true
   },
   "outputs": [
    {
     "data": {
      "text/plain": [
       "[<User username:C035795>, <User username:C991326>, <User username:C995445_PECO>, <User username:davidbrett>, <User username:e000050_peco>, <User username:E059322>, <User username:E062156>, <User username:E090933>, <User username:E901005>, <User username:E988257>, <User username:james.sarris>, <User username:PECO_AppSupp>, <User username:PECO_Asplundh>, <User username:PECO_DSD1>, <User username:PECO_DSO>, <User username:PECO_Gas>, <User username:PECO_GDVA>, <User username:PECO_Guest>, <User username:PECO_Storm>, <User username:PECO_TS>, <User username:PECO_Veg>, <User username:PECO_Work>, <User username:rlesperance_PECO>, <User username:RYANKR8>, <User username:svc_pecogis>, <User username:u005jph>]"
      ]
     },
     "execution_count": 11,
     "metadata": {},
     "output_type": "execute_result"
    }
   ],
   "source": [
    "# Get source users source_users = source.users.search('!esri_ & !admin',max_users=99999)\n",
    "source_users = source.users.search('!esri_ & !esri_livingatlas',max_users=99999)\n",
    "\n",
    "print (source_users)\n",
    "logging.info(\"Total users to migrate: {}\".foramt(len(source_users)))"
   ]
  },
  {
   "cell_type": "code",
   "execution_count": 12,
   "metadata": {},
   "outputs": [],
   "source": [
    "def GetUserTypeName(userType):\n",
    "    userTypes = [{\"Type\": \"creatorUT\",\"Descr\": \"Creator\"}, {\"Type\": \"viewerUT\",\"Descr\": \"Viewer\"}]\n",
    "    typeDescr = next(item for item in userTypes if item[\"Type\"]==userType)\n",
    "    return typeDescr[\"Descr\"]"
   ]
  },
  {
   "cell_type": "code",
   "execution_count": 13,
   "metadata": {},
   "outputs": [],
   "source": [
    "\n",
    "def copy_user(target_portal, source_user, password, org):\n",
    "    # split the fullName\n",
    "    full_name = source_user.fullName\n",
    "    first_name = full_name.split()[0]\n",
    "    try:\n",
    "        last_name = full_name.split(maxsplit = 1)[1]\n",
    "    except:\n",
    "        last_name = 'NoLastName'\n",
    "    \n",
    "    newusername = source_user.username\n",
    "    if re.search(org, newusername, re.IGNORECASE):\n",
    "        newusername = \"{}_{}\".format(newusername, \"1\")\n",
    "    else:\n",
    "        newusername = \"{}_{}\".format(newusername, org)\n",
    "        \n",
    "    userRole = source_user.role\n",
    "    if userRole == \"org_admin\":\n",
    "        userRole = \"org_user\"\n",
    "\n",
    "    try: \n",
    "        target_user = target_portal.users.create(username = newusername,\n",
    "                                                 password = password, \n",
    "                                                 firstname = first_name, \n",
    "                                                 lastname = last_name, \n",
    "                                                 email = source_user.email, \n",
    "                                                 description = source_user.description, \n",
    "                                                 role = userRole,\n",
    "                                                 user_type = \"Creator\")\n",
    "\n",
    "        if source_user.role == \"org_admin\":\n",
    "            target_user.update_role(\"org_admin\")\n",
    "        \n",
    "        # update user properties\n",
    "        target_user.update(access = source_user.access, \n",
    "                           description = source_user.description, \n",
    "                           tags = source_user.tags)\n",
    "\n",
    "        return target_user\n",
    "    \n",
    "    except Exception as Ex:\n",
    "        print(str(Ex))\n",
    "        print(\"Unable to create user \"+ newusername)\n",
    "        print (str(sys.exc_info()) + \"\\n\")\n",
    "        print(traceback.format_tb(sys.exc_info()[2])[0] + \"\\n\")\n",
    "        return None"
   ]
  },
  {
   "cell_type": "code",
   "execution_count": 14,
   "metadata": {
    "collapsed": true
   },
   "outputs": [
    {
     "name": "stdout",
     "output_type": "stream",
     "text": [
      "C035795\n",
      "C991326\n",
      "C995445_PECO\n",
      "davidbrett\n",
      "e000050_peco\n",
      "E059322\n",
      "E062156\n",
      "E090933\n",
      "E901005\n",
      "E988257\n",
      "james.sarris\n",
      "PECO_AppSupp\n",
      "PECO_Asplundh\n",
      "PECO_DSD1\n",
      "PECO_DSO\n",
      "PECO_Gas\n",
      "PECO_GDVA\n",
      "PECO_Guest\n",
      "PECO_Storm\n",
      "PECO_TS\n",
      "PECO_Veg\n",
      "PECO_Work\n",
      "rlesperance_PECO\n",
      "RYANKR8\n",
      "svc_pecogis\n",
      "u005jph\n"
     ]
    }
   ],
   "source": [
    "#  Cycle through source users and run copy routine\n",
    "userMapping = []\n",
    "for u in source_users:\n",
    "    print(u.username)\n",
    "    userMap = {}\n",
    "    userMap[\"sourcename\"] = u.username\n",
    "    userMap[\"fullname\"] = u.fullName\n",
    "    \n",
    "    targetUserCheck = target.users.get(\"{}_{}\".format(u.username, org))\n",
    "    if targetUserCheck:\n",
    "        print (\"Username {} already in target site\".format(u.username))\n",
    "        userMap[\"targetname\"] = \"Already in Target\"\n",
    "        continue\n",
    "\n",
    "    new_user = copy_user(target, u, \"ChangeMe12345\", org)\n",
    "    if new_user:\n",
    "        userMap[\"targetname\"] = new_user.username\n",
    "    else:\n",
    "        userMap[\"targetname\"] = \"Failed to Copy\"\n",
    "        \n",
    "    userMapping.append(userMap)"
   ]
  },
  {
   "cell_type": "code",
   "execution_count": 245,
   "metadata": {
    "collapsed": true
   },
   "outputs": [
    {
     "data": {
      "text/plain": [
       "[{'sourcename': 'andycowx1', 'fullname': 'Andy Cowx', 'targetname': 'andycowx1_ComEd'}, {'sourcename': 'C9954457', 'fullname': 'Kasim Malik', 'targetname': 'C9954457_ComEd'}, {'sourcename': 'comed_tugtoh', 'fullname': 'ComEd Transmission', 'targetname': 'comed_tugtoh_1'}, {'sourcename': 'comeduser', 'fullname': 'ComEd General Read Only User', 'targetname': 'comeduser_1'}, {'sourcename': 'e058934', 'fullname': 'Greta Guzman', 'targetname': 'e058934_ComEd'}, {'sourcename': 'e988229', 'fullname': 'James Sarris', 'targetname': 'e988229_ComEd'}, {'sourcename': 'gilrax', 'fullname': 'Adel Gilroy', 'targetname': 'gilrax_ComEd'}, {'sourcename': 'lefesm', 'fullname': 'Shannan Lefever', 'targetname': 'lefesm_ComEd'}, {'sourcename': 'rlesperance_ComEd', 'fullname': \"Richard L'Esperance\", 'targetname': 'rlesperance_ComEd_1'}, {'sourcename': 'summdx', 'fullname': 'David Summers', 'targetname': 'summdx_ComEd'}]"
      ]
     },
     "execution_count": 245,
     "metadata": {},
     "output_type": "execute_result"
    }
   ],
   "source": [
    "userMapping"
   ]
  },
  {
   "cell_type": "code",
   "execution_count": 15,
   "metadata": {},
   "outputs": [],
   "source": [
    "#Export User Mapping to XLS sheet\n",
    "df = pd.DataFrame.from_dict(userMapping)\n",
    "with pd.ExcelWriter(usermapXLS, engine='openpyxl') as writer:\n",
    "    df.to_excel(writer, sheet_name='Sheet1', index=None)"
   ]
  },
  {
   "cell_type": "markdown",
   "metadata": {},
   "source": [
    "## Copy one user"
   ]
  },
  {
   "cell_type": "code",
   "execution_count": 247,
   "metadata": {},
   "outputs": [
    {
     "name": "stdout",
     "output_type": "stream",
     "text": [
      "e000050_ComEd\n"
     ]
    }
   ],
   "source": [
    "#Failed to copy any over?\n",
    "users = [\"e000050\"]\n",
    "for user in users:\n",
    "    u = source.users.get(user)\n",
    "    new_user = copy_user(target, u, \"ChangeMe12345\", org)\n",
    "    print (new_user.username)"
   ]
  },
  {
   "cell_type": "code",
   "execution_count": null,
   "metadata": {},
   "outputs": [],
   "source": []
  }
 ],
 "metadata": {
  "kernelspec": {
   "display_name": "ArcGISPro",
   "language": "Python",
   "name": "python3"
  },
  "language_info": {
   "file_extension": ".py",
   "name": "python",
   "version": "3"
  }
 },
 "nbformat": 4,
 "nbformat_minor": 2
}
